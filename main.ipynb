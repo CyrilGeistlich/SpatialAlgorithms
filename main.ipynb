{
 "cells": [
  {
   "cell_type": "code",
   "execution_count": 17,
   "metadata": {},
   "outputs": [],
   "source": [
    "from classes import *\n",
    "import matplotlib.pyplot as plt\n",
    "from matplotlib.patches import Polygon as MplPolygon\n",
    "\n",
    "import geopandas as gpd\n",
    "from shapely.geometry import Polygon as ShapelyPolygon\n",
    "import pandas as pd # Used to Export Data to csv format, so long processing steps only have to be done once\n",
    "import json\n",
    "import folium\n",
    "\n",
    "from os import path"
   ]
  },
  {
   "cell_type": "code",
   "execution_count": 18,
   "metadata": {},
   "outputs": [],
   "source": [
    "data1_path = \"data/Polygons_no_mountains.geojson\"\n",
    "data2_path = \"data/Polygons_with_mountains.geojson\"\n",
    "data3_path = \"data/swissnames_points_json_export.geojson\"\n",
    "\n",
    "json_files = [(data1_path, \"Gemeinden_ohne_Berge\"),\n",
    "(data2_path, \"Gemeinden_mit_Berge\"),\n",
    "(data3_path, \"Swissnames_Points\")]\n"
   ]
  },
  {
   "cell_type": "markdown",
   "metadata": {},
   "source": [
    "## Read in Data (Marek)\n",
    "\n",
    "Short description what happens and how"
   ]
  },
  {
   "cell_type": "code",
   "execution_count": 19,
   "metadata": {},
   "outputs": [],
   "source": [
    "data = process_json_file(json_files)"
   ]
  },
  {
   "cell_type": "markdown",
   "metadata": {},
   "source": [
    "## Preprocessing (Sebi)\n",
    "\n",
    "Samesame"
   ]
  },
  {
   "cell_type": "code",
   "execution_count": 20,
   "metadata": {},
   "outputs": [],
   "source": [
    "polygon_data = Polygon_Data(data['Gemeinden_mit_Berge'],data['Gemeinden_ohne_Berge'])"
   ]
  },
  {
   "cell_type": "code",
   "execution_count": 21,
   "metadata": {},
   "outputs": [
    {
     "name": "stdout",
     "output_type": "stream",
     "text": [
      "10 unique objects removed from municipalities_polygons:\n",
      "Polygon Zwieselberg consisting of 6 points BFS_Nr=947\n",
      "Polygon Wangenried consisting of 6 points BFS_Nr=993\n",
      "Polygon Escholzmatt-Marbach consisting of 23 points BFS_Nr=1010\n",
      "Polygon Lüterswil-Gächliwil consisting of 9 points BFS_Nr=2456\n",
      "Polygon Bergün Filisur consisting of 36 points BFS_Nr=3544\n",
      "Polygon Turgi consisting of 9 points BFS_Nr=4042\n",
      "Polygon Novaggio consisting of 11 points BFS_Nr=5207\n",
      "Polygon Törbel consisting of 11 points BFS_Nr=6296\n",
      "Polygon Beurnevésin consisting of 7 points BFS_Nr=6773\n",
      "Polygon Bonfol consisting of 9 points BFS_Nr=6775\n",
      "\n",
      "16 unique objects removed from muns_only_vegetation_area_polygons:\n",
      "Polygon Valsot consisting of 43 points BFS_Nr=3764\n",
      "Polygon Ponte Capriasca consisting of 6 points BFS_Nr=5212\n",
      "Polygon Rüeggisberg consisting of 17 points BFS_Nr=880\n",
      "Polygon Zuoz consisting of 8 points BFS_Nr=3791\n",
      "Polygon Samedan consisting of 14 points BFS_Nr=3786\n",
      "Polygon Madulain consisting of 8 points BFS_Nr=3783\n",
      "Polygon Bever consisting of 15 points BFS_Nr=3781\n",
      "Polygon San Vittore consisting of 14 points BFS_Nr=3835\n",
      "Polygon Monthey consisting of 20 points BFS_Nr=6153\n",
      "Polygon Grono consisting of 16 points BFS_Nr=3832\n",
      "Polygon Saillon consisting of 12 points BFS_Nr=6140\n",
      "Polygon Matten bei Interlaken consisting of 9 points BFS_Nr=587\n",
      "Polygon Brienzwiler consisting of 9 points BFS_Nr=574\n",
      "Polygon Baltschieder consisting of 9 points BFS_Nr=6281\n",
      "Polygon Fläsch consisting of 11 points BFS_Nr=3951\n",
      "Polygon Basse-Vendline consisting of 14 points BFS_Nr=6812\n"
     ]
    }
   ],
   "source": [
    "polygon_data.remove_unique_entries()"
   ]
  },
  {
   "cell_type": "code",
   "execution_count": 22,
   "metadata": {},
   "outputs": [],
   "source": [
    "# Polygon Intersection\n",
    "municipalities_mountain_area = polygon_data.apply_difference()"
   ]
  },
  {
   "cell_type": "code",
   "execution_count": 24,
   "metadata": {},
   "outputs": [],
   "source": [
    "point_data = data['Swissnames_Points']"
   ]
  },
  {
   "cell_type": "code",
   "execution_count": 27,
   "metadata": {},
   "outputs": [
    {
     "data": {
      "text/plain": [
       "2894"
      ]
     },
     "execution_count": 27,
     "metadata": {},
     "output_type": "execute_result"
    }
   ],
   "source": [
    "# Flatten Lists and remove polygons smaller than 100 m^2 \n",
    "municipalities_mountain_area_flattened_list = [item for sublist in municipalities_mountain_area for item in sublist if item.area() >= 100]\n",
    "len(municipalities_mountain_area_flattened_list)"
   ]
  },
  {
   "cell_type": "code",
   "execution_count": 28,
   "metadata": {},
   "outputs": [],
   "source": [
    "# The function returns a list containing polygon id, point id, point name and point type\n",
    "# !!!Warning: Long Processing Time!!!\n",
    "\n",
    "\n",
    "#result_only_veg = point_polygon_matching(point_data,polygon_data.cleaned_mun_only_vegetation_polys)\n",
    "\n",
    "#result_full_polys = point_polygon_matching(point_data,polygon_data.cleaned_mun_polys)\n",
    "\n",
    "#result_mountain_polys = point_polygon_matching(point_data,municipalities_mountain_area_flattened_list)\n"
   ]
  },
  {
   "cell_type": "code",
   "execution_count": 29,
   "metadata": {},
   "outputs": [],
   "source": [
    "\n",
    "# Save DataFrame to CSV file\n",
    "#result_only_veg_df = pd.DataFrame(result_only_veg)\n",
    "#result_only_veg_df.to_csv('data/matched_points_vegetation.csv', index=False)\n",
    "\n",
    "#result_mountain_polys_df = pd.DataFrame(result_mountain_polys)\n",
    "#result_mountain_polys_df.to_csv('data/matched_points_mountain.csv', index=False)\n",
    "\n",
    "#result_full_polys_df = pd.DataFrame(result_full_polys)\n",
    "#result_full_polys_df.to_csv('data/matched_points_full.csv', index=False)"
   ]
  },
  {
   "cell_type": "code",
   "execution_count": 30,
   "metadata": {},
   "outputs": [
    {
     "ename": "TypeError",
     "evalue": "Polygon_Data.__init__() missing 1 required positional argument: 'muns_only_vegetation_area_polygons'",
     "output_type": "error",
     "traceback": [
      "\u001b[0;31m---------------------------------------------------------------------------\u001b[0m",
      "\u001b[0;31mTypeError\u001b[0m                                 Traceback (most recent call last)",
      "Cell \u001b[0;32mIn[30], line 12\u001b[0m\n\u001b[1;32m      9\u001b[0m full\u001b[38;5;241m.\u001b[39mrename(columns\u001b[38;5;241m=\u001b[39m{\u001b[38;5;124m'\u001b[39m\u001b[38;5;124m0\u001b[39m\u001b[38;5;124m'\u001b[39m: \u001b[38;5;124m'\u001b[39m\u001b[38;5;124mpolygon_id\u001b[39m\u001b[38;5;124m'\u001b[39m, \u001b[38;5;124m'\u001b[39m\u001b[38;5;124m1\u001b[39m\u001b[38;5;124m'\u001b[39m: \u001b[38;5;124m'\u001b[39m\u001b[38;5;124mpoint_id\u001b[39m\u001b[38;5;124m'\u001b[39m, \u001b[38;5;124m'\u001b[39m\u001b[38;5;124m2\u001b[39m\u001b[38;5;124m'\u001b[39m: \u001b[38;5;124m'\u001b[39m\u001b[38;5;124mname\u001b[39m\u001b[38;5;124m'\u001b[39m, \u001b[38;5;124m'\u001b[39m\u001b[38;5;124m3\u001b[39m\u001b[38;5;124m'\u001b[39m: \u001b[38;5;124m'\u001b[39m\u001b[38;5;124mobjektart\u001b[39m\u001b[38;5;124m'\u001b[39m}, inplace\u001b[38;5;241m=\u001b[39m\u001b[38;5;28;01mTrue\u001b[39;00m)\n\u001b[1;32m     11\u001b[0m \u001b[38;5;66;03m# Merge with polygon geometries for visualisation\u001b[39;00m\n\u001b[0;32m---> 12\u001b[0m vegetation\u001b[38;5;241m.\u001b[39mmerge(\u001b[43mPolygon_Data\u001b[49m\u001b[43m(\u001b[49m\u001b[43mdata\u001b[49m\u001b[43m[\u001b[49m\u001b[38;5;124;43m'\u001b[39;49m\u001b[38;5;124;43mGemeinden_mit_Berge\u001b[39;49m\u001b[38;5;124;43m'\u001b[39;49m\u001b[43m]\u001b[49m\u001b[43m)\u001b[49m, on \u001b[38;5;241m=\u001b[39m \u001b[38;5;124m'\u001b[39m\u001b[38;5;124mpolygon_id\u001b[39m\u001b[38;5;124m'\u001b[39m, how \u001b[38;5;241m=\u001b[39m \u001b[38;5;124m'\u001b[39m\u001b[38;5;124mleft\u001b[39m\u001b[38;5;124m'\u001b[39m)\n\u001b[1;32m     13\u001b[0m mountains\u001b[38;5;241m.\u001b[39mmerge(Polygon_Data(data[\u001b[38;5;124m'\u001b[39m\u001b[38;5;124mGemeinden_ohne_Berge\u001b[39m\u001b[38;5;124m'\u001b[39m],on \u001b[38;5;241m=\u001b[39m \u001b[38;5;124m'\u001b[39m\u001b[38;5;124mpolygon_id\u001b[39m\u001b[38;5;124m'\u001b[39m, how \u001b[38;5;241m=\u001b[39m \u001b[38;5;124m'\u001b[39m\u001b[38;5;124mleft\u001b[39m\u001b[38;5;124m'\u001b[39m))           \n\u001b[1;32m     14\u001b[0m full\u001b[38;5;241m.\u001b[39mmerge(municipalities_mountain_area_flattened_list,on \u001b[38;5;241m=\u001b[39m \u001b[38;5;124m'\u001b[39m\u001b[38;5;124mpolygon_id\u001b[39m\u001b[38;5;124m'\u001b[39m, how \u001b[38;5;241m=\u001b[39m \u001b[38;5;124m'\u001b[39m\u001b[38;5;124mleft\u001b[39m\u001b[38;5;124m'\u001b[39m)\n",
      "\u001b[0;31mTypeError\u001b[0m: Polygon_Data.__init__() missing 1 required positional argument: 'muns_only_vegetation_area_polygons'"
     ]
    }
   ],
   "source": [
    "# Read CSV\n",
    "vegetation = pd.read_csv('data/matched_points_vegetation.csv')\n",
    "mountains = pd.read_csv('data/matched_points_mountain.csv')\n",
    "full = pd.read_csv('data/matched_points_full.csv')\n",
    "\n",
    "# Rename Columns\n",
    "vegetation.rename(columns={'0': 'polygon_id', '1': 'point_id', '2': 'name', '3': 'objektart'}, inplace=True)\n",
    "mountains.rename(columns={'0': 'polygon_id', '1': 'point_id', '2': 'name', '3': 'objektart'}, inplace=True)\n",
    "full.rename(columns={'0': 'polygon_id', '1': 'point_id', '2': 'name', '3': 'objektart'}, inplace=True)\n",
    "\n",
    "# Merge with polygon geometries for visualisation\n",
    "vegetation.merge(Polygon_Data(data['Gemeinden_mit_Berge']), on = 'polygon_id', how = 'left')\n",
    "mountains.merge(Polygon_Data(data['Gemeinden_ohne_Berge'],on = 'polygon_id', how = 'left'))           \n",
    "full.merge(municipalities_mountain_area_flattened_list,on = 'polygon_id', how = 'left')\n",
    "         "
   ]
  }
 ],
 "metadata": {
  "kernelspec": {
   "display_name": "my_fancy_env",
   "language": "python",
   "name": "python3"
  },
  "language_info": {
   "codemirror_mode": {
    "name": "ipython",
    "version": 3
   },
   "file_extension": ".py",
   "mimetype": "text/x-python",
   "name": "python",
   "nbconvert_exporter": "python",
   "pygments_lexer": "ipython3",
   "version": "3.12.1"
  }
 },
 "nbformat": 4,
 "nbformat_minor": 2
}
