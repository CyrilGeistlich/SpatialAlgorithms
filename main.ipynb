{
 "cells": [
  {
   "cell_type": "code",
   "execution_count": 1,
   "metadata": {},
   "outputs": [],
   "source": [
    "from classes import *\n",
    "import matplotlib.pyplot as plt\n",
    "from matplotlib.patches import Polygon as MplPolygon\n",
    "\n",
    "import geopandas as gpd\n",
    "from shapely.geometry import Polygon as ShapelyPolygon\n",
    "import pandas as pd # Used to Export Data to csv format, so long processing steps only have to be done once\n",
    "import json\n",
    "import folium\n",
    "\n",
    "from os import path"
   ]
  },
  {
   "cell_type": "code",
   "execution_count": 2,
   "metadata": {},
   "outputs": [],
   "source": [
    "data1_path = \"data/Polygons_no_mountains.geojson\"\n",
    "data2_path = \"data/Polygons_with_mountains.geojson\"\n",
    "data3_path = \"data/swissnames_points_json_export.geojson\"\n",
    "\n",
    "json_files = [(data1_path, \"Gemeinden_ohne_Berge\"),\n",
    "(data2_path, \"Gemeinden_mit_Berge\"),\n",
    "(data3_path, \"Swissnames_Points\")]\n"
   ]
  },
  {
   "cell_type": "markdown",
   "metadata": {},
   "source": [
    "## Read in Data (Marek)\n",
    "\n",
    "Short description what happens and how"
   ]
  },
  {
   "cell_type": "code",
   "execution_count": 3,
   "metadata": {},
   "outputs": [],
   "source": [
    "data = process_json_file(json_files)"
   ]
  },
  {
   "cell_type": "markdown",
   "metadata": {},
   "source": [
    "## Preprocessing (Sebi)\n",
    "\n",
    "Samesame"
   ]
  },
  {
   "cell_type": "code",
   "execution_count": 4,
   "metadata": {},
   "outputs": [],
   "source": [
    "polygon_data = Polygon_Data(data['Gemeinden_mit_Berge'],data['Gemeinden_ohne_Berge'])"
   ]
  },
  {
   "cell_type": "code",
   "execution_count": 5,
   "metadata": {},
   "outputs": [
    {
     "name": "stdout",
     "output_type": "stream",
     "text": [
      "10 unique objects removed from municipalities_polygons:\n",
      "Polygon Zwieselberg consisting of 6 points BFS_Nr=947\n",
      "Polygon Wangenried consisting of 6 points BFS_Nr=993\n",
      "Polygon Escholzmatt-Marbach consisting of 23 points BFS_Nr=1010\n",
      "Polygon Lüterswil-Gächliwil consisting of 9 points BFS_Nr=2456\n",
      "Polygon Bergün Filisur consisting of 36 points BFS_Nr=3544\n",
      "Polygon Turgi consisting of 9 points BFS_Nr=4042\n",
      "Polygon Novaggio consisting of 11 points BFS_Nr=5207\n",
      "Polygon Törbel consisting of 11 points BFS_Nr=6296\n",
      "Polygon Beurnevésin consisting of 7 points BFS_Nr=6773\n",
      "Polygon Bonfol consisting of 9 points BFS_Nr=6775\n",
      "\n",
      "16 unique objects removed from muns_only_vegetation_area_polygons:\n",
      "Polygon Valsot consisting of 43 points BFS_Nr=3764\n",
      "Polygon Ponte Capriasca consisting of 6 points BFS_Nr=5212\n",
      "Polygon Rüeggisberg consisting of 17 points BFS_Nr=880\n",
      "Polygon Zuoz consisting of 8 points BFS_Nr=3791\n",
      "Polygon Samedan consisting of 14 points BFS_Nr=3786\n",
      "Polygon Madulain consisting of 8 points BFS_Nr=3783\n",
      "Polygon Bever consisting of 15 points BFS_Nr=3781\n",
      "Polygon San Vittore consisting of 14 points BFS_Nr=3835\n",
      "Polygon Monthey consisting of 20 points BFS_Nr=6153\n",
      "Polygon Grono consisting of 16 points BFS_Nr=3832\n",
      "Polygon Saillon consisting of 12 points BFS_Nr=6140\n",
      "Polygon Matten bei Interlaken consisting of 9 points BFS_Nr=587\n",
      "Polygon Brienzwiler consisting of 9 points BFS_Nr=574\n",
      "Polygon Baltschieder consisting of 9 points BFS_Nr=6281\n",
      "Polygon Fläsch consisting of 11 points BFS_Nr=3951\n",
      "Polygon Basse-Vendline consisting of 14 points BFS_Nr=6812\n"
     ]
    }
   ],
   "source": [
    "polygon_data.remove_unique_entries()"
   ]
  },
  {
   "cell_type": "code",
   "execution_count": 6,
   "metadata": {},
   "outputs": [],
   "source": [
    "# Polygon Intersection\n",
    "municipalities_mountain_area = polygon_data.apply_difference()"
   ]
  },
  {
   "cell_type": "code",
   "execution_count": 7,
   "metadata": {},
   "outputs": [],
   "source": [
    "point_data = data['Swissnames_Points']"
   ]
  },
  {
   "cell_type": "code",
   "execution_count": 8,
   "metadata": {},
   "outputs": [
    {
     "data": {
      "text/plain": [
       "2894"
      ]
     },
     "execution_count": 8,
     "metadata": {},
     "output_type": "execute_result"
    }
   ],
   "source": [
    "# Flatten Lists and remove polygons smaller than 100 m^2 \n",
    "municipalities_mountain_area_flattened_list = [item for sublist in municipalities_mountain_area for item in sublist if item.area() >= 100]\n",
    "len(municipalities_mountain_area_flattened_list)"
   ]
  },
  {
   "cell_type": "code",
   "execution_count": 9,
   "metadata": {},
   "outputs": [],
   "source": [
    "# The function returns a list containing polygon id, point id, point name and point type\n",
    "# !!!Warning: Long Processing Time!!!\n",
    "\n",
    "\n",
    "#result_only_veg = point_polygon_matching(point_data,polygon_data.cleaned_mun_only_vegetation_polys)\n",
    "\n",
    "#result_full_polys = point_polygon_matching(point_data,polygon_data.cleaned_mun_polys)\n",
    "\n",
    "#result_mountain_polys = point_polygon_matching(point_data,municipalities_mountain_area_flattened_list)\n"
   ]
  },
  {
   "cell_type": "code",
   "execution_count": 10,
   "metadata": {},
   "outputs": [],
   "source": [
    "\n",
    "# Save DataFrame to CSV file\n",
    "#result_only_veg_df = pd.DataFrame(result_only_veg)\n",
    "#result_only_veg_df.to_csv('data/matched_points_vegetation.csv', index=False)\n",
    "\n",
    "#result_mountain_polys_df = pd.DataFrame(result_mountain_polys)\n",
    "#result_mountain_polys_df.to_csv('data/matched_points_mountain.csv', index=False)\n",
    "\n",
    "#result_full_polys_df = pd.DataFrame(result_full_polys)\n",
    "#result_full_polys_df.to_csv('data/matched_points_full.csv', index=False)"
   ]
  },
  {
   "cell_type": "code",
   "execution_count": 31,
   "metadata": {},
   "outputs": [
    {
     "name": "stdout",
     "output_type": "stream",
     "text": [
      "      polygon_id objektart  point_count\n",
      "0              1  Bergname            2\n",
      "1              1  Flurname          108\n",
      "2              2  Bergname            1\n",
      "3              2  Flurname          193\n",
      "4              3  Bergname            1\n",
      "...          ...       ...          ...\n",
      "3418        6809  Flurname          544\n",
      "3419        6810  Bergname            5\n",
      "3420        6810  Flurname          461\n",
      "3421        6811  Bergname            1\n",
      "3422        6811  Flurname          142\n",
      "\n",
      "[3423 rows x 3 columns]\n"
     ]
    }
   ],
   "source": [
    "# Read CSV\n",
    "vegetation = pd.read_csv('data/matched_points_vegetation.csv')\n",
    "mountains = pd.read_csv('data/matched_points_mountain.csv')\n",
    "full = pd.read_csv('data/matched_points_full.csv')\n",
    "\n",
    "# Rename Columns\n",
    "vegetation.rename(columns={'0': 'polygon_id', '1': 'point_id', '2': 'name', '3': 'objektart'}, inplace=True)\n",
    "mountains.rename(columns={'0': 'polygon_id', '1': 'point_id', '2': 'name', '3': 'objektart'}, inplace=True)\n",
    "full.rename(columns={'0': 'polygon_id', '1': 'point_id', '2': 'name', '3': 'objektart'}, inplace=True)\n",
    "\n",
    "        \n",
    "# Grouping and counting for the vegetation dataframe\n",
    "vegetation_grouped = vegetation.groupby(['polygon_id', 'objektart']).size().reset_index(name='point_count')\n",
    "\n",
    "# Grouping and counting for the mountains dataframe\n",
    "mountains_grouped = mountains.groupby(['polygon_id', 'objektart']).size().reset_index(name='point_count')\n",
    "\n",
    "# Grouping and counting for the full dataframe\n",
    "full_grouped = full.groupby(['polygon_id', 'objektart']).size().reset_index(name='point_count')\n",
    "\n",
    "\n",
    "print(vegetation_grouped)"
   ]
  }
 ],
 "metadata": {
  "kernelspec": {
   "display_name": "my_fancy_env",
   "language": "python",
   "name": "python3"
  },
  "language_info": {
   "codemirror_mode": {
    "name": "ipython",
    "version": 3
   },
   "file_extension": ".py",
   "mimetype": "text/x-python",
   "name": "python",
   "nbconvert_exporter": "python",
   "pygments_lexer": "ipython3",
   "version": "3.12.1"
  }
 },
 "nbformat": 4,
 "nbformat_minor": 2
}
