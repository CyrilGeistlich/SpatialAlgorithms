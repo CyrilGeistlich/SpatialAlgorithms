{
 "cells": [
  {
   "cell_type": "code",
   "execution_count": 14,
   "metadata": {},
   "outputs": [],
   "source": [
    "from classes import *\n",
    "import matplotlib.pyplot as plt\n",
    "from matplotlib.patches import Polygon as MplPolygon\n",
    "import geopandas as gpd\n",
    "from shapely.geometry import Polygon as ShapelyPolygon\n",
    "import json\n",
    "import folium\n",
    "\n",
    "from os import path"
   ]
  },
  {
   "cell_type": "code",
   "execution_count": 15,
   "metadata": {},
   "outputs": [],
   "source": [
    "data1_path = \"/Users/sebastiangmur/Projekte/Uzh/GEO877_Spatial_Algorithms/SpatialAlgorithms/data/Polygons_no_mountains.geojson\"\n",
    "data2_path = \"/Users/sebastiangmur/Projekte/Uzh/GEO877_Spatial_Algorithms/SpatialAlgorithms/data/Polygons_with_mountains.geojson\"\n",
    "data3_path = \"/Users/sebastiangmur/Projekte/Uzh/GEO877_Spatial_Algorithms/SpatialAlgorithms/data/swissnames_points_json_export.geojson\"\n",
    "\n",
    "json_files = [(data1_path, \"Gemeinden_ohne_Berge\"),\n",
    "(data2_path, \"Gemeinden_mit_Berge\"),\n",
    "(data3_path, \"Swissnames_Points\")]\n"
   ]
  },
  {
   "cell_type": "markdown",
   "metadata": {},
   "source": [
    "## Read in Data (Marek)\n",
    "\n",
    "Short description what happens and how"
   ]
  },
  {
   "cell_type": "code",
   "execution_count": 16,
   "metadata": {},
   "outputs": [],
   "source": [
    "data = process_json_file(json_files)"
   ]
  },
  {
   "cell_type": "markdown",
   "metadata": {},
   "source": [
    "## Preprocessing (Sebi)\n",
    "\n",
    "Samesame"
   ]
  },
  {
   "cell_type": "code",
   "execution_count": 17,
   "metadata": {},
   "outputs": [],
   "source": [
    "polygon_data = Polygon_Data(data['Gemeinden_mit_Berge'],data['Gemeinden_ohne_Berge'])"
   ]
  },
  {
   "cell_type": "code",
   "execution_count": 18,
   "metadata": {},
   "outputs": [
    {
     "name": "stdout",
     "output_type": "stream",
     "text": [
      "10 unique objects removed from municipalities_polygons:\n",
      "Polygon Zwieselberg consisting of 6 points BFS_Nr=947\n",
      "Polygon Wangenried consisting of 6 points BFS_Nr=993\n",
      "Polygon Escholzmatt-Marbach consisting of 23 points BFS_Nr=1010\n",
      "Polygon Lüterswil-Gächliwil consisting of 9 points BFS_Nr=2456\n",
      "Polygon Bergün Filisur consisting of 36 points BFS_Nr=3544\n",
      "Polygon Turgi consisting of 9 points BFS_Nr=4042\n",
      "Polygon Novaggio consisting of 11 points BFS_Nr=5207\n",
      "Polygon Törbel consisting of 11 points BFS_Nr=6296\n",
      "Polygon Beurnevésin consisting of 7 points BFS_Nr=6773\n",
      "Polygon Bonfol consisting of 9 points BFS_Nr=6775\n",
      "\n",
      "16 unique objects removed from muns_only_vegetation_area_polygons:\n",
      "Polygon Valsot consisting of 43 points BFS_Nr=3764\n",
      "Polygon Ponte Capriasca consisting of 6 points BFS_Nr=5212\n",
      "Polygon Rüeggisberg consisting of 17 points BFS_Nr=880\n",
      "Polygon Zuoz consisting of 8 points BFS_Nr=3791\n",
      "Polygon Samedan consisting of 14 points BFS_Nr=3786\n",
      "Polygon Madulain consisting of 8 points BFS_Nr=3783\n",
      "Polygon Bever consisting of 15 points BFS_Nr=3781\n",
      "Polygon San Vittore consisting of 14 points BFS_Nr=3835\n",
      "Polygon Monthey consisting of 20 points BFS_Nr=6153\n",
      "Polygon Grono consisting of 16 points BFS_Nr=3832\n",
      "Polygon Saillon consisting of 12 points BFS_Nr=6140\n",
      "Polygon Matten bei Interlaken consisting of 9 points BFS_Nr=587\n",
      "Polygon Brienzwiler consisting of 9 points BFS_Nr=574\n",
      "Polygon Baltschieder consisting of 9 points BFS_Nr=6281\n",
      "Polygon Fläsch consisting of 11 points BFS_Nr=3951\n",
      "Polygon Basse-Vendline consisting of 14 points BFS_Nr=6812\n"
     ]
    }
   ],
   "source": [
    "polygon_data.remove_unique_entries()"
   ]
  },
  {
   "cell_type": "code",
   "execution_count": 19,
   "metadata": {},
   "outputs": [],
   "source": [
    "municipalities_mountain_area = polygon_data.apply_difference()"
   ]
  },
  {
   "cell_type": "code",
   "execution_count": 20,
   "metadata": {},
   "outputs": [],
   "source": [
    "aeugst_am_albis = polygon_data.cleaned_mun_polys[0]\n",
    "aeugst_am_albis_vf = polygon_data.cleaned_mun_only_vegetation_polys[0]\n"
   ]
  },
  {
   "cell_type": "code",
   "execution_count": 21,
   "metadata": {},
   "outputs": [],
   "source": [
    "aeugst_am_albis_mountain_area = municipalities_mountain_area[0]"
   ]
  },
  {
   "cell_type": "code",
   "execution_count": 22,
   "metadata": {},
   "outputs": [
    {
     "name": "stdout",
     "output_type": "stream",
     "text": [
      "aeugst am albis fläche: 6985196.0\n",
      "nach diff: 2981.276611328125\n"
     ]
    }
   ],
   "source": [
    "print(f\"aeugst am albis fläche: {aeugst_am_albis.area()}\")\n",
    "print(f\"nach diff: {test[0].area()}\")"
   ]
  }
 ],
 "metadata": {
  "kernelspec": {
   "display_name": "my_fancy_env",
   "language": "python",
   "name": "python3"
  },
  "language_info": {
   "codemirror_mode": {
    "name": "ipython",
    "version": 3
   },
   "file_extension": ".py",
   "mimetype": "text/x-python",
   "name": "python",
   "nbconvert_exporter": "python",
   "pygments_lexer": "ipython3",
   "version": "3.9.18"
  }
 },
 "nbformat": 4,
 "nbformat_minor": 2
}
